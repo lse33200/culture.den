{
 "cells": [
  {
   "cell_type": "markdown",
   "metadata": {},
   "source": [
    "# Web Scraping by CVR code\n",
    "For culture-den cultural classifier "
   ]
  },
  {
   "cell_type": "code",
   "execution_count": 2,
   "metadata": {},
   "outputs": [],
   "source": [
    "import os\n",
    "import csv\n",
    "import numpy as np\n",
    "import pandas as pd\n",
    "import requests\n",
    "from bs4 import BeautifulSoup\n",
    "import re\n",
    "\n",
    "import selenium\n"
   ]
  },
  {
   "cell_type": "code",
   "execution_count": 3,
   "metadata": {},
   "outputs": [],
   "source": [
    "from parsel import Selector\n",
    "from selenium import webdriver\n",
    "from selenium.webdriver.common.by import By\n",
    "from selenium.webdriver.chrome.options import Options\n",
    "from selenium.webdriver.support.ui import WebDriverWait\n",
    "from selenium.webdriver.support import expected_conditions as EC\n",
    "import time"
   ]
  },
  {
   "cell_type": "code",
   "execution_count": 13,
   "metadata": {},
   "outputs": [
    {
     "data": {
      "text/html": [
       "<div>\n",
       "<style scoped>\n",
       "    .dataframe tbody tr th:only-of-type {\n",
       "        vertical-align: middle;\n",
       "    }\n",
       "\n",
       "    .dataframe tbody tr th {\n",
       "        vertical-align: top;\n",
       "    }\n",
       "\n",
       "    .dataframe thead th {\n",
       "        text-align: right;\n",
       "    }\n",
       "</style>\n",
       "<table border=\"1\" class=\"dataframe\">\n",
       "  <thead>\n",
       "    <tr style=\"text-align: right;\">\n",
       "      <th></th>\n",
       "      <th>ID</th>\n",
       "      <th>Affiliation</th>\n",
       "      <th>TAGS</th>\n",
       "      <th>CVR</th>\n",
       "    </tr>\n",
       "  </thead>\n",
       "  <tbody>\n",
       "    <tr>\n",
       "      <th>0</th>\n",
       "      <td>50935</td>\n",
       "      <td>Dansk Kennelklub (bestyrelse)</td>\n",
       "      <td>Recreation and sports, Recreation, Pets, Animals</td>\n",
       "      <td>FALSE</td>\n",
       "    </tr>\n",
       "    <tr>\n",
       "      <th>1</th>\n",
       "      <td>55276</td>\n",
       "      <td>SPAREKASSEN BORNHOLMS FOND</td>\n",
       "      <td>Foundation, Charity, Banks</td>\n",
       "      <td>15106891</td>\n",
       "    </tr>\n",
       "    <tr>\n",
       "      <th>2</th>\n",
       "      <td>45889</td>\n",
       "      <td>Bager- og Konditormestre i Danmark (BKD) (best...</td>\n",
       "      <td>Employers association, Food</td>\n",
       "      <td>FALSE</td>\n",
       "    </tr>\n",
       "    <tr>\n",
       "      <th>3</th>\n",
       "      <td>47447</td>\n",
       "      <td>Statens Kunstfond (Billedkunstudvalget)</td>\n",
       "      <td>Culture, Foundation, Art</td>\n",
       "      <td>FALSE</td>\n",
       "    </tr>\n",
       "    <tr>\n",
       "      <th>4</th>\n",
       "      <td>28654</td>\n",
       "      <td>Dansk Aktionærforening (Generalforsamlingsudvalg)</td>\n",
       "      <td>Business association, Investment, Owners, Finance</td>\n",
       "      <td>FALSE</td>\n",
       "    </tr>\n",
       "    <tr>\n",
       "      <th>5</th>\n",
       "      <td>55126</td>\n",
       "      <td>VOGNMAND JOHS. RASMUSSEN, SVEBØLLE OG RUTH RAS...</td>\n",
       "      <td>Foundation, Owners, Corporation</td>\n",
       "      <td>82447016</td>\n",
       "    </tr>\n",
       "    <tr>\n",
       "      <th>6</th>\n",
       "      <td>36512</td>\n",
       "      <td>Sanistål</td>\n",
       "      <td>Corporation, ENGH</td>\n",
       "      <td>42997811</td>\n",
       "    </tr>\n",
       "    <tr>\n",
       "      <th>7</th>\n",
       "      <td>56094</td>\n",
       "      <td>Dansk Petanque Forbund (forretningsudvalg)</td>\n",
       "      <td>Recreation and sports, Sports</td>\n",
       "      <td>FALSE</td>\n",
       "    </tr>\n",
       "    <tr>\n",
       "      <th>8</th>\n",
       "      <td>31607</td>\n",
       "      <td>Udvalg om bygningsbevaring</td>\n",
       "      <td>Commission, City planning, History, Housing, A...</td>\n",
       "      <td>FALSE</td>\n",
       "    </tr>\n",
       "    <tr>\n",
       "      <th>9</th>\n",
       "      <td>42966</td>\n",
       "      <td>GPV International</td>\n",
       "      <td>Corporation, MASK</td>\n",
       "      <td>66945715</td>\n",
       "    </tr>\n",
       "  </tbody>\n",
       "</table>\n",
       "</div>"
      ],
      "text/plain": [
       "      ID                                        Affiliation  \\\n",
       "0  50935                      Dansk Kennelklub (bestyrelse)   \n",
       "1  55276                         SPAREKASSEN BORNHOLMS FOND   \n",
       "2  45889  Bager- og Konditormestre i Danmark (BKD) (best...   \n",
       "3  47447            Statens Kunstfond (Billedkunstudvalget)   \n",
       "4  28654  Dansk Aktionærforening (Generalforsamlingsudvalg)   \n",
       "5  55126  VOGNMAND JOHS. RASMUSSEN, SVEBØLLE OG RUTH RAS...   \n",
       "6  36512                                           Sanistål   \n",
       "7  56094         Dansk Petanque Forbund (forretningsudvalg)   \n",
       "8  31607                         Udvalg om bygningsbevaring   \n",
       "9  42966                                  GPV International   \n",
       "\n",
       "                                                TAGS       CVR  \n",
       "0   Recreation and sports, Recreation, Pets, Animals     FALSE  \n",
       "1                         Foundation, Charity, Banks  15106891  \n",
       "2                        Employers association, Food     FALSE  \n",
       "3                           Culture, Foundation, Art     FALSE  \n",
       "4  Business association, Investment, Owners, Finance     FALSE  \n",
       "5                    Foundation, Owners, Corporation  82447016  \n",
       "6                                  Corporation, ENGH  42997811  \n",
       "7                      Recreation and sports, Sports     FALSE  \n",
       "8  Commission, City planning, History, Housing, A...     FALSE  \n",
       "9                                  Corporation, MASK  66945715  "
      ]
     },
     "execution_count": 13,
     "metadata": {},
     "output_type": "execute_result"
    }
   ],
   "source": [
    "#Read in CSV to get some sample CVRs\n",
    "oracle = pd.read_csv(\"oracledf.csv\")\n",
    "oracle.columns = ['ID', 'Affiliation', \"TAGS\", \"CVR\"]\n",
    "oracle.head(n = 10)"
   ]
  },
  {
   "cell_type": "markdown",
   "metadata": {},
   "source": [
    "Base URL: https://datacvr.virk.dk/\n",
    "Example with CVR: https://datacvr.virk.dk/enhed/virksomhed/21378607?fritekst=21378607&sideIndex=0&size=10"
   ]
  },
  {
   "cell_type": "code",
   "execution_count": 30,
   "metadata": {},
   "outputs": [],
   "source": [
    "def purposeScrapeSel(cvr):\n",
    "    \"\"\"Takes CVR number for organization, returns purpose statement (in Danish) from https://datacvr.virk.dk/\n",
    "    Args:\n",
    "        cvr (numeric): CVR number from den$CVR\n",
    "    \"\"\"\n",
    "\n",
    "    options = Options()\n",
    "    #options.headless = True\n",
    "\n",
    "    driver = webdriver.Chrome('/Users/miriamfeldman/Desktop/chromedriver', options = options)\n",
    "\n",
    "    #Construct Full URL from CVR Number\n",
    "    url1 = 'https://datacvr.virk.dk/enhed/virksomhed/'\n",
    "    url2 = '?fritekst='\n",
    "    url3 = '&sideIndex=0&size=10'\n",
    "\n",
    "    urlfull = url1+str(cvr)+url2+str(cvr)+url3 \n",
    "    #print(urlfull)\n",
    "\n",
    "    #Access web page with Chrome driver\n",
    "    driver.get(urlfull)\n",
    "\n",
    "    #Wait until loaded (by when the header appears)\n",
    "    try:\n",
    "        element = WebDriverWait(driver=driver, timeout=10).until(\n",
    "            EC.presence_of_element_located((By.CSS_SELECTOR, 'h1'))\n",
    "            )\n",
    "        \n",
    "        #Get HTML source code\n",
    "        html_source = driver.page_source\n",
    "\n",
    "        #Load into BeautifulSoup to parse the HTML\n",
    "        soup = BeautifulSoup(html_source, 'html.parser')\n",
    "    \n",
    "    except:\n",
    "        purpose_text = ''\n",
    "\n",
    "    #Find the column with label \"Formål\"\n",
    "    #Should eventually add a try-except to catch ones that don't have a purpose statement\n",
    "    try:\n",
    "        cols = soup.find(class_ = \"col-12 col-lg-3\", text = re.compile('Formål'))\n",
    "\n",
    "        parent_tag = cols.parent #Go up one level\n",
    "        purpose_statement = parent_tag.findNext(class_ = 'col') #Find next 'col' where purpose text stored\n",
    "        purpose_text = purpose_statement.contents[0] #Text of purpose statement\n",
    "    \n",
    "    except:\n",
    "        purpose_text = ''\n",
    "\n",
    "    driver.close()\n",
    "\n",
    "    return purpose_text\n"
   ]
  },
  {
   "cell_type": "markdown",
   "metadata": {},
   "source": [
    "### Test Scraping"
   ]
  },
  {
   "cell_type": "code",
   "execution_count": 4,
   "metadata": {},
   "outputs": [
    {
     "name": "stdout",
     "output_type": "stream",
     "text": [
      "Fondens formål er at virke til gavn for almennyttige og velgørende formål på Bornholm, alt efter bestyrelsens frie skøn.\n"
     ]
    }
   ],
   "source": [
    "test1 = purposeScrapeSel(15106891)\n",
    "print(test1)"
   ]
  },
  {
   "cell_type": "markdown",
   "metadata": {},
   "source": [
    "DeepL Translation: The purpose of the Foundation is to work for the benefit of non-profit and charitable purposes on Bornholm, at the discretion of the Board."
   ]
  },
  {
   "cell_type": "code",
   "execution_count": 5,
   "metadata": {},
   "outputs": [
    {
     "name": "stdout",
     "output_type": "stream",
     "text": [
      "Selskabets formål er handel, produktion, distribution, udvikling og markedsføring indenfor audio og dermed beslægtet virksomhed, dels i eget regi, dels gennem koncernforbundne datterselskaber.\n"
     ]
    }
   ],
   "source": [
    "test2 = purposeScrapeSel(21378607)\n",
    "print(test2)"
   ]
  },
  {
   "cell_type": "markdown",
   "metadata": {},
   "source": [
    "DeepL Translation: The object of the company is the trade, production, distribution, development and marketing of audio and related activities, partly under its own management and partly through group subsidiaries."
   ]
  },
  {
   "cell_type": "code",
   "execution_count": 29,
   "metadata": {},
   "outputs": [
    {
     "data": {
      "text/html": [
       "<div>\n",
       "<style scoped>\n",
       "    .dataframe tbody tr th:only-of-type {\n",
       "        vertical-align: middle;\n",
       "    }\n",
       "\n",
       "    .dataframe tbody tr th {\n",
       "        vertical-align: top;\n",
       "    }\n",
       "\n",
       "    .dataframe thead th {\n",
       "        text-align: right;\n",
       "    }\n",
       "</style>\n",
       "<table border=\"1\" class=\"dataframe\">\n",
       "  <thead>\n",
       "    <tr style=\"text-align: right;\">\n",
       "      <th></th>\n",
       "      <th>Affiliation</th>\n",
       "      <th>CVR</th>\n",
       "    </tr>\n",
       "  </thead>\n",
       "  <tbody>\n",
       "    <tr>\n",
       "      <th>0</th>\n",
       "      <td>Reception på Kongeskibet Dannebrog (2012)</td>\n",
       "      <td>FALSE</td>\n",
       "    </tr>\n",
       "    <tr>\n",
       "      <th>1</th>\n",
       "      <td>Middelfart Sparekasse</td>\n",
       "      <td>24744817</td>\n",
       "    </tr>\n",
       "    <tr>\n",
       "      <th>2</th>\n",
       "      <td>Foreningen Østifterne - Repræsentantskab (Medl...</td>\n",
       "      <td>FALSE</td>\n",
       "    </tr>\n",
       "    <tr>\n",
       "      <th>3</th>\n",
       "      <td>Regentparrets haveselskab (for frivillige arbe...</td>\n",
       "      <td>FALSE</td>\n",
       "    </tr>\n",
       "    <tr>\n",
       "      <th>4</th>\n",
       "      <td>Rude Strand Seniorhøjskole (Bestyrelse)</td>\n",
       "      <td>FALSE</td>\n",
       "    </tr>\n",
       "    <tr>\n",
       "      <th>...</th>\n",
       "      <td>...</td>\n",
       "      <td>...</td>\n",
       "    </tr>\n",
       "    <tr>\n",
       "      <th>95</th>\n",
       "      <td>TEAM DANMARK (Aktivkomitéen)</td>\n",
       "      <td>FALSE</td>\n",
       "    </tr>\n",
       "    <tr>\n",
       "      <th>96</th>\n",
       "      <td>Danske Regioner (bestyrelse)</td>\n",
       "      <td>FALSE</td>\n",
       "    </tr>\n",
       "    <tr>\n",
       "      <th>97</th>\n",
       "      <td>Danske Regioner (direktionen)</td>\n",
       "      <td>FALSE</td>\n",
       "    </tr>\n",
       "    <tr>\n",
       "      <th>98</th>\n",
       "      <td>AKF, Anvendt KommunalForskning (bestyrekse)</td>\n",
       "      <td>FALSE</td>\n",
       "    </tr>\n",
       "    <tr>\n",
       "      <th>99</th>\n",
       "      <td>Bestyrelse (Statens Center for Kompetenceudvik...</td>\n",
       "      <td>FALSE</td>\n",
       "    </tr>\n",
       "  </tbody>\n",
       "</table>\n",
       "<p>100 rows × 2 columns</p>\n",
       "</div>"
      ],
      "text/plain": [
       "                                          Affiliation       CVR\n",
       "0           Reception på Kongeskibet Dannebrog (2012)     FALSE\n",
       "1                               Middelfart Sparekasse  24744817\n",
       "2   Foreningen Østifterne - Repræsentantskab (Medl...     FALSE\n",
       "3   Regentparrets haveselskab (for frivillige arbe...     FALSE\n",
       "4             Rude Strand Seniorhøjskole (Bestyrelse)     FALSE\n",
       "..                                                ...       ...\n",
       "95                       TEAM DANMARK (Aktivkomitéen)     FALSE\n",
       "96                       Danske Regioner (bestyrelse)     FALSE\n",
       "97                      Danske Regioner (direktionen)     FALSE\n",
       "98        AKF, Anvendt KommunalForskning (bestyrekse)     FALSE\n",
       "99  Bestyrelse (Statens Center for Kompetenceudvik...     FALSE\n",
       "\n",
       "[100 rows x 2 columns]"
      ]
     },
     "execution_count": 29,
     "metadata": {},
     "output_type": "execute_result"
    }
   ],
   "source": [
    "cvrs = pd.read_csv(\"affilsandcvrs.csv\")\n",
    "cvrs.columns = ['Affiliation', \"CVR\"]\n",
    "cvrs.head(n = 100)\n"
   ]
  },
  {
   "cell_type": "markdown",
   "metadata": {},
   "source": [
    "## Scrape in batches"
   ]
  },
  {
   "cell_type": "code",
   "execution_count": 45,
   "metadata": {},
   "outputs": [
    {
     "name": "stdout",
     "output_type": "stream",
     "text": [
      "0\n",
      "100\n",
      "200\n",
      "300\n",
      "400\n",
      "500\n",
      "600\n",
      "700\n",
      "800\n",
      "900\n"
     ]
    }
   ],
   "source": [
    "cvr_text_1000 = []\n",
    "\n",
    "for i in range(0, 1000):\n",
    "    if i%100 == 0:\n",
    "        print(i)\n",
    "    if cvrs.iloc[i,1] == \"FALSE\":\n",
    "        cvr_text_1000.append('')\n",
    "    else:\n",
    "        cvr_text_1000.append(purposeScrapeSel(cvrs.iloc[i,1]))\n"
   ]
  },
  {
   "cell_type": "code",
   "execution_count": 48,
   "metadata": {},
   "outputs": [],
   "source": [
    "df = pd.DataFrame(cvr_text_1000) \n",
    "    \n",
    "# saving the dataframe \n",
    "df.to_csv('cvr_text_1000.csv')"
   ]
  },
  {
   "cell_type": "code",
   "execution_count": 49,
   "metadata": {},
   "outputs": [
    {
     "name": "stdout",
     "output_type": "stream",
     "text": [
      "1000\n",
      "1100\n",
      "1200\n",
      "1300\n",
      "1400\n",
      "1500\n",
      "1600\n",
      "1700\n",
      "1800\n",
      "1900\n"
     ]
    }
   ],
   "source": [
    "cvr_text_2000 = []\n",
    "\n",
    "for i in range(1000, 2000):\n",
    "    if i%100 == 0:\n",
    "        print(i)\n",
    "    if cvrs.iloc[i,1] == \"FALSE\":\n",
    "        cvr_text_2000.append('')\n",
    "    else:\n",
    "        cvr_text_2000.append(purposeScrapeSel(cvrs.iloc[i,1]))\n"
   ]
  },
  {
   "cell_type": "code",
   "execution_count": 50,
   "metadata": {},
   "outputs": [],
   "source": [
    "df = pd.DataFrame(cvr_text_2000) \n",
    "    \n",
    "# saving the dataframe \n",
    "df.to_csv('cvr_text_2000.csv')"
   ]
  },
  {
   "cell_type": "code",
   "execution_count": 52,
   "metadata": {},
   "outputs": [
    {
     "name": "stdout",
     "output_type": "stream",
     "text": [
      "2000\n",
      "2100\n",
      "2200\n",
      "2300\n",
      "2400\n",
      "2500\n",
      "2600\n",
      "2700\n",
      "2800\n",
      "2900\n"
     ]
    }
   ],
   "source": [
    "cvr_text_3000 = []\n",
    "\n",
    "for i in range(2000, 3000):\n",
    "    if i%100 == 0:\n",
    "        print(i)\n",
    "    if cvrs.iloc[i,1] == \"FALSE\":\n",
    "        cvr_text_3000.append('')\n",
    "    else:\n",
    "        cvr_text_3000.append(purposeScrapeSel(cvrs.iloc[i,1]))\n"
   ]
  },
  {
   "cell_type": "code",
   "execution_count": 53,
   "metadata": {},
   "outputs": [],
   "source": [
    "df = pd.DataFrame(cvr_text_3000) \n",
    "    \n",
    "# saving the dataframe \n",
    "df.to_csv('cvr_text_3000.csv')"
   ]
  },
  {
   "cell_type": "code",
   "execution_count": 54,
   "metadata": {},
   "outputs": [
    {
     "name": "stdout",
     "output_type": "stream",
     "text": [
      "3000\n",
      "3100\n",
      "3200\n",
      "3300\n",
      "3400\n",
      "3500\n",
      "3600\n",
      "3700\n",
      "3800\n",
      "3900\n"
     ]
    }
   ],
   "source": [
    "cvr_text_4000 = []\n",
    "\n",
    "for i in range(3000, 4000):\n",
    "    if i%100 == 0:\n",
    "        print(i)\n",
    "    if cvrs.iloc[i,1] == \"FALSE\":\n",
    "        cvr_text_4000.append('')\n",
    "    else:\n",
    "        cvr_text_4000.append(purposeScrapeSel(cvrs.iloc[i,1]))"
   ]
  },
  {
   "cell_type": "code",
   "execution_count": 55,
   "metadata": {},
   "outputs": [],
   "source": [
    "df = pd.DataFrame(cvr_text_4000) \n",
    "    \n",
    "# saving the dataframe \n",
    "df.to_csv('cvr_text_4000.csv')"
   ]
  },
  {
   "cell_type": "code",
   "execution_count": 56,
   "metadata": {},
   "outputs": [
    {
     "name": "stdout",
     "output_type": "stream",
     "text": [
      "4000\n",
      "4100\n",
      "4200\n",
      "4300\n",
      "4400\n",
      "4500\n",
      "4600\n",
      "4700\n",
      "4800\n",
      "4900\n",
      "5000\n"
     ]
    }
   ],
   "source": [
    "cvr_text_5000 = []\n",
    "\n",
    "for i in range(4000, len(cvrs.index)):\n",
    "    if i%100 == 0:\n",
    "        print(i)\n",
    "    if cvrs.iloc[i,1] == \"FALSE\":\n",
    "        cvr_text_5000.append('')\n",
    "    else:\n",
    "        cvr_text_5000.append(purposeScrapeSel(cvrs.iloc[i,1]))"
   ]
  },
  {
   "cell_type": "code",
   "execution_count": 57,
   "metadata": {},
   "outputs": [],
   "source": [
    "df = pd.DataFrame(cvr_text_5000) \n",
    "    \n",
    "# saving the dataframe \n",
    "df.to_csv('cvr_text_5000.csv')"
   ]
  },
  {
   "cell_type": "markdown",
   "metadata": {},
   "source": [
    "### Combining scraped data into one file"
   ]
  },
  {
   "cell_type": "code",
   "execution_count": 58,
   "metadata": {},
   "outputs": [
    {
     "data": {
      "text/plain": [
       "5079"
      ]
     },
     "execution_count": 58,
     "metadata": {},
     "output_type": "execute_result"
    }
   ],
   "source": [
    "cvr_text = cvr_text_1000 + cvr_text_2000 + cvr_text_3000 + cvr_text_4000 + cvr_text_5000\n",
    "len(cvr_text)\n"
   ]
  },
  {
   "cell_type": "code",
   "execution_count": 119,
   "metadata": {},
   "outputs": [
    {
     "data": {
      "text/plain": [
       "['Sparekassens formål er at drive pengeinstitutvirksomhed samt anden virksomhed, der accessorisk hertil. Sparekassens ønske er desuden at støtte og afholde almennyttige aktiviteter i Sparekassens virkeområde.',\n",
       " '',\n",
       " '',\n",
       " '']"
      ]
     },
     "execution_count": 119,
     "metadata": {},
     "output_type": "execute_result"
    }
   ],
   "source": [
    "cvr_text[1:5]"
   ]
  },
  {
   "cell_type": "markdown",
   "metadata": {},
   "source": [
    "Writing to CSV"
   ]
  },
  {
   "cell_type": "code",
   "execution_count": 59,
   "metadata": {},
   "outputs": [],
   "source": [
    "df = pd.DataFrame(cvr_text) \n",
    "df.to_csv('cvr_text.csv')"
   ]
  },
  {
   "cell_type": "markdown",
   "metadata": {},
   "source": [
    "Code to re-import cvr_text from csv"
   ]
  },
  {
   "cell_type": "code",
   "execution_count": 136,
   "metadata": {},
   "outputs": [
    {
     "name": "stdout",
     "output_type": "stream",
     "text": [
      "['', 'Sparekassens formål er at drive pengeinstitutvirksomhed samt anden virksomhed, der accessorisk hertil. Sparekassens ønske er desuden at støtte og afholde almennyttige aktiviteter i Sparekassens virkeområde.', '', '']\n"
     ]
    },
    {
     "data": {
      "text/plain": [
       "5080"
      ]
     },
     "execution_count": 136,
     "metadata": {},
     "output_type": "execute_result"
    }
   ],
   "source": [
    "import csv\n",
    "\n",
    "results = []\n",
    "with open('cvr_text.csv', newline='') as inputfile:\n",
    "    for row in csv.reader(inputfile):\n",
    "        results.append(row[1])\n",
    "\n",
    "results.pop(0)\n",
    "\n",
    "print(results[1:5])\n",
    "len(results)"
   ]
  }
 ],
 "metadata": {
  "interpreter": {
   "hash": "5a8ed6b4ad323c983db4f49ce95ed1973ebb45a19480618c2ad2400e9d09a234"
  },
  "kernelspec": {
   "display_name": "Python 3.8.12 ('base')",
   "language": "python",
   "name": "python3"
  },
  "language_info": {
   "codemirror_mode": {
    "name": "ipython",
    "version": 3
   },
   "file_extension": ".py",
   "mimetype": "text/x-python",
   "name": "python",
   "nbconvert_exporter": "python",
   "pygments_lexer": "ipython3",
   "version": "3.8.12"
  },
  "orig_nbformat": 4
 },
 "nbformat": 4,
 "nbformat_minor": 2
}
