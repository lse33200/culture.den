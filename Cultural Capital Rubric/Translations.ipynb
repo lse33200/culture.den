{
 "cells": [
  {
   "cell_type": "markdown",
   "metadata": {},
   "source": [
    "# Translating Danish Scraped Text to English"
   ]
  },
  {
   "cell_type": "markdown",
   "metadata": {},
   "source": [
    "Import cvr_texts to list"
   ]
  },
  {
   "cell_type": "code",
   "execution_count": 11,
   "metadata": {},
   "outputs": [
    {
     "name": "stdout",
     "output_type": "stream",
     "text": [
      "['', 'Sparekassens formål er at drive pengeinstitutvirksomhed samt anden virksomhed, der accessorisk hertil. Sparekassens ønske er desuden at støtte og afholde almennyttige aktiviteter i Sparekassens virkeområde.', '', '', '']\n"
     ]
    },
    {
     "data": {
      "text/plain": [
       "5079"
      ]
     },
     "execution_count": 11,
     "metadata": {},
     "output_type": "execute_result"
    }
   ],
   "source": [
    "import csv\n",
    "\n",
    "cvr_text = []\n",
    "with open('cvr_text.csv', newline='') as inputfile:\n",
    "    for row in csv.reader(inputfile):\n",
    "        cvr_text.append(row[1])\n",
    "\n",
    "cvr_text.pop(0)\n",
    "\n",
    "print(cvr_text[0:5])\n",
    "len(cvr_text)"
   ]
  },
  {
   "cell_type": "code",
   "execution_count": 15,
   "metadata": {},
   "outputs": [],
   "source": [
    "#Importing API Keys\n",
    "import creds\n",
    "auth_key = creds.auth_key\n",
    "auth_key_pro = creds.auth_key_pro"
   ]
  },
  {
   "cell_type": "code",
   "execution_count": 18,
   "metadata": {},
   "outputs": [
    {
     "name": "stdout",
     "output_type": "stream",
     "text": [
      "The object of the company is to trade, design, engineer, manufacture, supply, install and service renewable energy business, in particular wind turbines and related activities, act as a holding company and carry on investment and financing activities.\n"
     ]
    }
   ],
   "source": [
    "#DeepL API Test\n",
    "import deepl\n",
    "\n",
    "test_string = \"Selskabets formål er at drive handel, design, ingeniørvirksomhed, fremstilling, levering, installation og service indenfor forretningsområdet vedvarende energi, i særdeleshed vedrørende vindmøller samt relaterede aktiviteter, fungerer som holdingselskab og drive investering- og finansieringsvirksomhed.\"\n",
    "\n",
    "translator = deepl.Translator(auth_key_pro)\n",
    "\n",
    "test_translate = translator.translate_text(test_string, source_lang=\"DA\", target_lang=\"EN-US\") #Danish to English\n",
    "print(test_translate)"
   ]
  },
  {
   "cell_type": "code",
   "execution_count": 27,
   "metadata": {},
   "outputs": [
    {
     "name": "stdout",
     "output_type": "stream",
     "text": [
      "0\n"
     ]
    },
    {
     "data": {
      "text/plain": [
       "[<deepl.translator.TextResult at 0x7f9f88933a30>,\n",
       " '',\n",
       " '',\n",
       " '',\n",
       " <deepl.translator.TextResult at 0x7f9f88933dc0>,\n",
       " '',\n",
       " '',\n",
       " '',\n",
       " '',\n",
       " '',\n",
       " '',\n",
       " <deepl.translator.TextResult at 0x7f9f987f8130>,\n",
       " '',\n",
       " '',\n",
       " <deepl.translator.TextResult at 0x7f9f88933220>,\n",
       " <deepl.translator.TextResult at 0x7f9f88933640>,\n",
       " <deepl.translator.TextResult at 0x7f9f88933400>,\n",
       " '',\n",
       " '']"
      ]
     },
     "execution_count": 27,
     "metadata": {},
     "output_type": "execute_result"
    }
   ],
   "source": [
    "#DeepL API First 500\n",
    "import deepl\n",
    "\n",
    "translator = deepl.Translator(auth_key)\n",
    "\n",
    "#Create empty list to store translations\n",
    "cvr_translated_deepl = []\n",
    "\n",
    "#Translator 0 to 500\n",
    "for i in range(0, 500):\n",
    "    if i%500 == 0:\n",
    "        print(i)\n",
    "    if cvr_text[i] == '':\n",
    "        cvr_translated_deepl.append('')\n",
    "    else:\n",
    "        #Translate purpose statement\n",
    "        translated = translator.translate_text(cvr_text[i], source_lang=\"DA\", target_lang=\"EN-US\") #Danish to English\n",
    "        #Append to \n",
    "        cvr_translated_deepl.append(translated)\n",
    "\n",
    "len(cvr_translated_deepl)\n",
    "cvr_translated_deepl[1:20]"
   ]
  },
  {
   "cell_type": "code",
   "execution_count": 54,
   "metadata": {},
   "outputs": [
    {
     "name": "stdout",
     "output_type": "stream",
     "text": [
      "500\n",
      "1000\n",
      "1500\n"
     ]
    }
   ],
   "source": [
    "#DeepL 500 - 2000\n",
    "\n",
    "cvr_translated_deepl500 = []\n",
    "\n",
    "#Translator 500 - 2000\n",
    "for i in range(500, 2000):\n",
    "    if i%500 == 0:\n",
    "        print(i)\n",
    "    if cvr_text[i] == '':\n",
    "        cvr_translated_deepl500.append('')\n",
    "    else:\n",
    "        #Translate purpose statement\n",
    "        translated = translator.translate_text(cvr_text[i], source_lang=\"DA\", target_lang=\"EN-US\") #Danish to English\n",
    "        #Append to \n",
    "        cvr_translated_deepl500.append(translated)"
   ]
  },
  {
   "cell_type": "code",
   "execution_count": 59,
   "metadata": {},
   "outputs": [
    {
     "name": "stdout",
     "output_type": "stream",
     "text": [
      "2000\n",
      "2250\n",
      "2500\n",
      "2750\n",
      "3000\n",
      "3250\n",
      "3500\n",
      "3750\n",
      "4000\n",
      "4250\n",
      "4500\n",
      "4750\n",
      "5000\n"
     ]
    }
   ],
   "source": [
    "#DeepL 2000 - end\n",
    "translator = deepl.Translator(auth_key_pro)\n",
    "\n",
    "cvr_translated_deepl2000 = []\n",
    "\n",
    "#Translator 2000 - end\n",
    "for i in range(2000, len(cvr_text)):\n",
    "    if i%250 == 0:\n",
    "        print(i)\n",
    "    if cvr_text[i] == '':\n",
    "        cvr_translated_deepl2000.append('')\n",
    "    else:\n",
    "        #Translate purpose statement\n",
    "        translated = translator.translate_text(cvr_text[i], source_lang=\"DA\", target_lang=\"EN-US\") #Danish to English\n",
    "        #Append to \n",
    "        cvr_translated_deepl2000.append(translated)"
   ]
  },
  {
   "cell_type": "code",
   "execution_count": 38,
   "metadata": {},
   "outputs": [
    {
     "name": "stdout",
     "output_type": "stream",
     "text": [
      "['The purpose of the savings bank is to carry on the business of financial institutions and other activities ancillary thereto. The Savings Bank also wishes to support and organise non-profit activities in its area of activity.', '', '']\n"
     ]
    }
   ],
   "source": [
    "a = str(cvr_translated_deepl[1])\n",
    "\n",
    "b = [a, \"\", \"\"]\n",
    "\n",
    "print(b)"
   ]
  },
  {
   "cell_type": "code",
   "execution_count": 62,
   "metadata": {},
   "outputs": [
    {
     "name": "stdout",
     "output_type": "stream",
     "text": [
      "5079\n"
     ]
    }
   ],
   "source": [
    "#Export Lists of DeepL Translations (TextResult Format)\n",
    "import pandas as pd\n",
    "full_deepl_translated = cvr_translated_deepl + cvr_translated_deepl500 + cvr_translated_deepl2000\n",
    "print(len(full_deepl_translated))\n",
    "\n",
    "# making the dataframe\n",
    "df = pd.DataFrame(full_deepl_translated) \n",
    "# saving the dataframe \n",
    "df.to_csv('full_deepl_translated_textresult.csv') "
   ]
  },
  {
   "cell_type": "code",
   "execution_count": 63,
   "metadata": {},
   "outputs": [
    {
     "name": "stdout",
     "output_type": "stream",
     "text": [
      "['', 'The purpose of the institution is to build and operate sports and recreation centres primarily for the population of the municipality.', '', 'The object of the company is to carry on business as a holding company.', 'The object of the company is to carry on industrial activities by developing, manufacturing, selling, servicing and repairing products characterised by steam boilers, inert gas systems, thermal oil boilers, burners or control systems and related activities including heat exchangers. The purpose of the company is also to carry on business by developing, manufacturing, selling, servicing and repairing all types of purification and energy equipment related to the marine market and to invest capital in companies of all the aforementioned types as well as in real estate.', '', '', '', 'The object of the company is to carry on trading and manufacturing activities and to make investments, including in other companies.', \"The purpose of the foundation is to provide a framework for church children's and youth work in Grindsted, including the work of the K.F.U.M. & K.F.U.K. associations, the FDF/FPF, the K.F.U.M. and K.F.U.K. scouts, the K.F.U.M. sports association, leisure club/youth club, etc.\"]\n"
     ]
    },
    {
     "data": {
      "text/plain": [
       "5079"
      ]
     },
     "execution_count": 63,
     "metadata": {},
     "output_type": "execute_result"
    }
   ],
   "source": [
    "#Get list filled in with words rather than <deepl.translator.TextResult object at 0x7f9f88933a30>\n",
    "translated_fulltext = []\n",
    "\n",
    "for i in range(0, len(cvr_translated_deepl)):\n",
    "    fullwords = str(cvr_translated_deepl[i])\n",
    "    translated_fulltext.append(fullwords)\n",
    "for i in range(0, len(cvr_translated_deepl500)):\n",
    "    fullwords = str(cvr_translated_deepl500[i])\n",
    "    translated_fulltext.append(fullwords)\n",
    "for i in range(0, len(cvr_translated_deepl2000)):\n",
    "    fullwords = str(cvr_translated_deepl2000[i])\n",
    "    translated_fulltext.append(fullwords)\n",
    "\n",
    "print(translated_fulltext[20:30])\n",
    "len(translated_fulltext)"
   ]
  },
  {
   "cell_type": "code",
   "execution_count": 64,
   "metadata": {},
   "outputs": [],
   "source": [
    "#Export Lists of DeepL Translations (String Format)\n",
    "\n",
    "# making the dataframe\n",
    "df = pd.DataFrame(translated_fulltext) \n",
    "# saving the dataframe \n",
    "df.to_csv('full_deepl_translated_text.csv') "
   ]
  },
  {
   "cell_type": "markdown",
   "metadata": {},
   "source": [
    "### Checking Translated Texts for Matches in Cultural Keywords"
   ]
  },
  {
   "cell_type": "code",
   "execution_count": 66,
   "metadata": {},
   "outputs": [
    {
     "name": "stdout",
     "output_type": "stream",
     "text": [
      "[293, 334, 353, 382, 386, 403, 419, 472, 477, 482]\n",
      "[[], [], [], [], [], ['cultural'], [], [], [], ['collection'], [], [], [], [], [], [], [], [], [], [], [], [], [], ['cultural'], []]\n",
      "[0, 0, 0, 0, 0, 1, 0, 0, 0, 1, 0, 0, 0, 0, 0, 0, 0, 0, 0, 0, 0, 0, 0, 1, 0]\n",
      "460\n",
      "5079\n"
     ]
    }
   ],
   "source": [
    "with open('culturalkeywords.txt') as f:\n",
    "    culturalkeywords = f.read()\n",
    "\n",
    "culturalkeywords = culturalkeywords.split(\", \")\n",
    "culturalkeywords = [s.strip() for s in culturalkeywords]\n",
    "culturalkeywords\n",
    "\n",
    "cultural_indices = []\n",
    "cultural_matches = []\n",
    "cultural_table = []\n",
    "\n",
    "for i in range(0, len(translated_fulltext)):\n",
    "    if set(culturalkeywords) & set(translated_fulltext[i].split()):\n",
    "        cultural_indices.append(i)\n",
    "        cultural_matches.append(list(set(culturalkeywords) & set(translated_fulltext[i].split())))\n",
    "        cultural_table.append(1)\n",
    "    else:\n",
    "        cultural_matches.append([])\n",
    "        cultural_table.append(0)\n",
    "\n",
    "print(cultural_indices[20:30])\n",
    "print(cultural_matches[50:75])\n",
    "print(cultural_table[50:75])\n",
    "\n",
    "print(len(cultural_indices))\n",
    "print(len(cultural_matches))\n"
   ]
  },
  {
   "cell_type": "code",
   "execution_count": 73,
   "metadata": {},
   "outputs": [],
   "source": [
    "#Export Dataframe of Cultural Matches\n",
    "# Should add columns for: Name, CSV to link\n",
    "\n",
    "# making the dataframe\n",
    "df = pd.DataFrame(list(zip(translated_fulltext, cultural_table, cultural_matches)))\n",
    "df.columns = [\"Purpose\", \"Cultural\", \"Matched Words\"]\n",
    "#display(df.iloc[4:50,])\n",
    "\n",
    "# saving the dataframe \n",
    "df.to_csv('purposes_cultural.csv') "
   ]
  },
  {
   "cell_type": "code",
   "execution_count": 14,
   "metadata": {},
   "outputs": [
    {
     "data": {
      "text/html": [
       "<div>\n",
       "<style scoped>\n",
       "    .dataframe tbody tr th:only-of-type {\n",
       "        vertical-align: middle;\n",
       "    }\n",
       "\n",
       "    .dataframe tbody tr th {\n",
       "        vertical-align: top;\n",
       "    }\n",
       "\n",
       "    .dataframe thead th {\n",
       "        text-align: right;\n",
       "    }\n",
       "</style>\n",
       "<table border=\"1\" class=\"dataframe\">\n",
       "  <thead>\n",
       "    <tr style=\"text-align: right;\">\n",
       "      <th></th>\n",
       "      <th>affiliation</th>\n",
       "      <th>CVR</th>\n",
       "      <th>Purpose</th>\n",
       "      <th>Cultural</th>\n",
       "      <th>Matched Words</th>\n",
       "    </tr>\n",
       "  </thead>\n",
       "  <tbody>\n",
       "    <tr>\n",
       "      <th>4</th>\n",
       "      <td>Rude Strand Seniorhøjskole (Bestyrelse)</td>\n",
       "      <td>FALSE</td>\n",
       "      <td>NaN</td>\n",
       "      <td>0</td>\n",
       "      <td>[]</td>\n",
       "    </tr>\n",
       "    <tr>\n",
       "      <th>5</th>\n",
       "      <td>ÅRHUS SØMANDSHJEM</td>\n",
       "      <td>29094411</td>\n",
       "      <td>The purpose of the Foundation is: a) to provid...</td>\n",
       "      <td>1</td>\n",
       "      <td>['education']</td>\n",
       "    </tr>\n",
       "    <tr>\n",
       "      <th>6</th>\n",
       "      <td>Brancheforeningen for industriel automation (b...</td>\n",
       "      <td>FALSE</td>\n",
       "      <td>NaN</td>\n",
       "      <td>0</td>\n",
       "      <td>[]</td>\n",
       "    </tr>\n",
       "    <tr>\n",
       "      <th>7</th>\n",
       "      <td>VL gruppe 35 – Aarhus</td>\n",
       "      <td>FALSE</td>\n",
       "      <td>NaN</td>\n",
       "      <td>0</td>\n",
       "      <td>[]</td>\n",
       "    </tr>\n",
       "    <tr>\n",
       "      <th>8</th>\n",
       "      <td>Danske Havne (Transportudvalget)</td>\n",
       "      <td>FALSE</td>\n",
       "      <td>NaN</td>\n",
       "      <td>0</td>\n",
       "      <td>[]</td>\n",
       "    </tr>\n",
       "    <tr>\n",
       "      <th>9</th>\n",
       "      <td>Dommere valgt af Folketinget (Rigsretten)</td>\n",
       "      <td>FALSE</td>\n",
       "      <td>NaN</td>\n",
       "      <td>0</td>\n",
       "      <td>[]</td>\n",
       "    </tr>\n",
       "    <tr>\n",
       "      <th>10</th>\n",
       "      <td>DR</td>\n",
       "      <td>62786515</td>\n",
       "      <td>NaN</td>\n",
       "      <td>0</td>\n",
       "      <td>[]</td>\n",
       "    </tr>\n",
       "    <tr>\n",
       "      <th>11</th>\n",
       "      <td>Alm. brand - Repræsentantskab (Medlemmer)</td>\n",
       "      <td>FALSE</td>\n",
       "      <td>NaN</td>\n",
       "      <td>0</td>\n",
       "      <td>[]</td>\n",
       "    </tr>\n",
       "    <tr>\n",
       "      <th>12</th>\n",
       "      <td>NRGi</td>\n",
       "      <td>41989912</td>\n",
       "      <td>The purpose of the Company is to engage in ene...</td>\n",
       "      <td>0</td>\n",
       "      <td>[]</td>\n",
       "    </tr>\n",
       "    <tr>\n",
       "      <th>13</th>\n",
       "      <td>Dronningens 70-års fødselsdag (2010)</td>\n",
       "      <td>FALSE</td>\n",
       "      <td>NaN</td>\n",
       "      <td>0</td>\n",
       "      <td>[]</td>\n",
       "    </tr>\n",
       "    <tr>\n",
       "      <th>14</th>\n",
       "      <td>Danske Biavleres Landsforening (repræsentantskab)</td>\n",
       "      <td>FALSE</td>\n",
       "      <td>NaN</td>\n",
       "      <td>0</td>\n",
       "      <td>[]</td>\n",
       "    </tr>\n",
       "    <tr>\n",
       "      <th>15</th>\n",
       "      <td>FONDEN AARHUS MURERLAUGS STIFTELSE</td>\n",
       "      <td>11679102</td>\n",
       "      <td>The scholarship is established with the purpos...</td>\n",
       "      <td>0</td>\n",
       "      <td>[]</td>\n",
       "    </tr>\n",
       "    <tr>\n",
       "      <th>16</th>\n",
       "      <td>Elopak Denmark</td>\n",
       "      <td>36071214</td>\n",
       "      <td>The purpose of the company is to carry on trad...</td>\n",
       "      <td>0</td>\n",
       "      <td>[]</td>\n",
       "    </tr>\n",
       "    <tr>\n",
       "      <th>17</th>\n",
       "      <td>Vestforsyning</td>\n",
       "      <td>25952200</td>\n",
       "      <td>The object of the company is to hold, directly...</td>\n",
       "      <td>0</td>\n",
       "      <td>[]</td>\n",
       "    </tr>\n",
       "    <tr>\n",
       "      <th>18</th>\n",
       "      <td>Danske Rejsejournalister (bestyrelse)</td>\n",
       "      <td>FALSE</td>\n",
       "      <td>NaN</td>\n",
       "      <td>0</td>\n",
       "      <td>[]</td>\n",
       "    </tr>\n",
       "    <tr>\n",
       "      <th>19</th>\n",
       "      <td>Liberalt Oplysnings Forbund (LOF) (Landsstyrel...</td>\n",
       "      <td>FALSE</td>\n",
       "      <td>NaN</td>\n",
       "      <td>0</td>\n",
       "      <td>[]</td>\n",
       "    </tr>\n",
       "  </tbody>\n",
       "</table>\n",
       "</div>"
      ],
      "text/plain": [
       "                                          affiliation       CVR  \\\n",
       "4             Rude Strand Seniorhøjskole (Bestyrelse)     FALSE   \n",
       "5                                   ÅRHUS SØMANDSHJEM  29094411   \n",
       "6   Brancheforeningen for industriel automation (b...     FALSE   \n",
       "7                               VL gruppe 35 – Aarhus     FALSE   \n",
       "8                    Danske Havne (Transportudvalget)     FALSE   \n",
       "9           Dommere valgt af Folketinget (Rigsretten)     FALSE   \n",
       "10                                                 DR  62786515   \n",
       "11          Alm. brand - Repræsentantskab (Medlemmer)     FALSE   \n",
       "12                                               NRGi  41989912   \n",
       "13               Dronningens 70-års fødselsdag (2010)     FALSE   \n",
       "14  Danske Biavleres Landsforening (repræsentantskab)     FALSE   \n",
       "15                 FONDEN AARHUS MURERLAUGS STIFTELSE  11679102   \n",
       "16                                     Elopak Denmark  36071214   \n",
       "17                                      Vestforsyning  25952200   \n",
       "18              Danske Rejsejournalister (bestyrelse)     FALSE   \n",
       "19  Liberalt Oplysnings Forbund (LOF) (Landsstyrel...     FALSE   \n",
       "\n",
       "                                              Purpose  Cultural  Matched Words  \n",
       "4                                                 NaN         0             []  \n",
       "5   The purpose of the Foundation is: a) to provid...         1  ['education']  \n",
       "6                                                 NaN         0             []  \n",
       "7                                                 NaN         0             []  \n",
       "8                                                 NaN         0             []  \n",
       "9                                                 NaN         0             []  \n",
       "10                                                NaN         0             []  \n",
       "11                                                NaN         0             []  \n",
       "12  The purpose of the Company is to engage in ene...         0             []  \n",
       "13                                                NaN         0             []  \n",
       "14                                                NaN         0             []  \n",
       "15  The scholarship is established with the purpos...         0             []  \n",
       "16  The purpose of the company is to carry on trad...         0             []  \n",
       "17  The object of the company is to hold, directly...         0             []  \n",
       "18                                                NaN         0             []  \n",
       "19                                                NaN         0             []  "
      ]
     },
     "metadata": {},
     "output_type": "display_data"
    }
   ],
   "source": [
    "import pandas as pd\n",
    "\n",
    "df1 = pd.read_csv(\"purposes_cultural.csv\")\n",
    "df2 = pd.read_csv(\"affilsandcvrs.csv\")\n",
    "df3 = pd.concat([df2, df1.iloc[:,1:4]], axis=1)\n",
    "\n",
    "display(df3.iloc[4:20,:])\n",
    "df3.to_csv('affiliations_purposes_cultural.csv') "
   ]
  }
 ],
 "metadata": {
  "interpreter": {
   "hash": "5a8ed6b4ad323c983db4f49ce95ed1973ebb45a19480618c2ad2400e9d09a234"
  },
  "kernelspec": {
   "display_name": "Python 3.8.12 ('base')",
   "language": "python",
   "name": "python3"
  },
  "language_info": {
   "codemirror_mode": {
    "name": "ipython",
    "version": 3
   },
   "file_extension": ".py",
   "mimetype": "text/x-python",
   "name": "python",
   "nbconvert_exporter": "python",
   "pygments_lexer": "ipython3",
   "version": "3.8.12"
  },
  "orig_nbformat": 4
 },
 "nbformat": 4,
 "nbformat_minor": 2
}
